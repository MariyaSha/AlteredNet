{
 "cells": [
  {
   "cell_type": "code",
   "execution_count": 14,
   "id": "2fdad793-3284-4237-8d62-5356f7541ae9",
   "metadata": {},
   "outputs": [
    {
     "data": {
      "text/plain": [
       "1\n",
       " remove glasses         15\n",
       " remove happiness       15\n",
       " remove skin texture    15\n",
       " add hat                15\n",
       " add mustache           15\n",
       " add glasses            15\n",
       " add happiness          15\n",
       " remove mustache        15\n",
       " remove hat             15\n",
       " add age                15\n",
       "Name: count, dtype: int64"
      ]
     },
     "execution_count": 14,
     "metadata": {},
     "output_type": "execute_result"
    }
   ],
   "source": [
    "import pandas as pd\n",
    "\n",
    "data = pd.read_csv(\"criteria.txt\", header=None)\n",
    "data[1].value_counts()"
   ]
  },
  {
   "cell_type": "code",
   "execution_count": 10,
   "id": "52af808e-fd6f-41e5-9deb-5ebee6ad90c1",
   "metadata": {},
   "outputs": [
    {
     "data": {
      "text/html": [
       "<div>\n",
       "<style scoped>\n",
       "    .dataframe tbody tr th:only-of-type {\n",
       "        vertical-align: middle;\n",
       "    }\n",
       "\n",
       "    .dataframe tbody tr th {\n",
       "        vertical-align: top;\n",
       "    }\n",
       "\n",
       "    .dataframe thead th {\n",
       "        text-align: right;\n",
       "    }\n",
       "</style>\n",
       "<table border=\"1\" class=\"dataframe\">\n",
       "  <thead>\n",
       "    <tr style=\"text-align: right;\">\n",
       "      <th></th>\n",
       "      <th>action</th>\n",
       "      <th>item</th>\n",
       "      <th>real image</th>\n",
       "      <th>altered image</th>\n",
       "    </tr>\n",
       "  </thead>\n",
       "  <tbody>\n",
       "    <tr>\n",
       "      <th>0</th>\n",
       "      <td>remove</td>\n",
       "      <td>glasses</td>\n",
       "      <td>real_0.png</td>\n",
       "      <td>fake_0.png</td>\n",
       "    </tr>\n",
       "    <tr>\n",
       "      <th>1</th>\n",
       "      <td>remove</td>\n",
       "      <td>happiness</td>\n",
       "      <td>real_1.png</td>\n",
       "      <td>fake_1.png</td>\n",
       "    </tr>\n",
       "    <tr>\n",
       "      <th>2</th>\n",
       "      <td>remove</td>\n",
       "      <td>skin texture</td>\n",
       "      <td>real_2.png</td>\n",
       "      <td>fake_2.png</td>\n",
       "    </tr>\n",
       "    <tr>\n",
       "      <th>3</th>\n",
       "      <td>add</td>\n",
       "      <td>hat</td>\n",
       "      <td>real_3.png</td>\n",
       "      <td>fake_3.png</td>\n",
       "    </tr>\n",
       "    <tr>\n",
       "      <th>4</th>\n",
       "      <td>remove</td>\n",
       "      <td>skin texture</td>\n",
       "      <td>real_4.png</td>\n",
       "      <td>fake_4.png</td>\n",
       "    </tr>\n",
       "    <tr>\n",
       "      <th>...</th>\n",
       "      <td>...</td>\n",
       "      <td>...</td>\n",
       "      <td>...</td>\n",
       "      <td>...</td>\n",
       "    </tr>\n",
       "    <tr>\n",
       "      <th>105</th>\n",
       "      <td>add</td>\n",
       "      <td>glasses</td>\n",
       "      <td>real_105.png</td>\n",
       "      <td>fake_105.png</td>\n",
       "    </tr>\n",
       "    <tr>\n",
       "      <th>106</th>\n",
       "      <td>add</td>\n",
       "      <td>happiness</td>\n",
       "      <td>real_106.png</td>\n",
       "      <td>fake_106.png</td>\n",
       "    </tr>\n",
       "    <tr>\n",
       "      <th>107</th>\n",
       "      <td>add</td>\n",
       "      <td>age</td>\n",
       "      <td>real_107.png</td>\n",
       "      <td>fake_107.png</td>\n",
       "    </tr>\n",
       "    <tr>\n",
       "      <th>108</th>\n",
       "      <td>add</td>\n",
       "      <td>mustache</td>\n",
       "      <td>real_108.png</td>\n",
       "      <td>fake_108.png</td>\n",
       "    </tr>\n",
       "    <tr>\n",
       "      <th>109</th>\n",
       "      <td>add</td>\n",
       "      <td>hat</td>\n",
       "      <td>real_109.png</td>\n",
       "      <td>fake_109.png</td>\n",
       "    </tr>\n",
       "  </tbody>\n",
       "</table>\n",
       "<p>110 rows × 4 columns</p>\n",
       "</div>"
      ],
      "text/plain": [
       "     action          item    real image altered image\n",
       "0    remove       glasses    real_0.png    fake_0.png\n",
       "1    remove     happiness    real_1.png    fake_1.png\n",
       "2    remove  skin texture    real_2.png    fake_2.png\n",
       "3       add           hat    real_3.png    fake_3.png\n",
       "4    remove  skin texture    real_4.png    fake_4.png\n",
       "..      ...           ...           ...           ...\n",
       "105     add       glasses  real_105.png  fake_105.png\n",
       "106     add     happiness  real_106.png  fake_106.png\n",
       "107     add           age  real_107.png  fake_107.png\n",
       "108     add      mustache  real_108.png  fake_108.png\n",
       "109     add           hat  real_109.png  fake_109.png\n",
       "\n",
       "[110 rows x 4 columns]"
      ]
     },
     "execution_count": 10,
     "metadata": {},
     "output_type": "execute_result"
    }
   ],
   "source": [
    "# transform dataframe\n",
    "\n",
    "data[1] = data[1].str[1:]\n",
    "data[1] = data[1].str.split(\" \")\n",
    "data[2] = data[1].str[1:]\n",
    "data[2] = data[2].apply(lambda x: \" \".join(x))\n",
    "data[1] = data[1].str[0]\n",
    "data[3] = data[0].apply(lambda x: str(x) + \"_real.png\")\n",
    "data[4] = data[0].apply(lambda x: str(x) + \"_fake.png\")\n",
    "data = data.drop(0, axis=1)\n",
    "data.columns = [\"action\", \"item\", \"real image\", \"altered image\"]\n",
    "\n",
    "data"
   ]
  },
  {
   "cell_type": "code",
   "execution_count": 12,
   "id": "2f308838-e2cf-4e6a-8f8e-1ab0e7ec035a",
   "metadata": {},
   "outputs": [
    {
     "data": {
      "text/plain": [
       "item\n",
       "glasses         22\n",
       "happiness       22\n",
       "hat             22\n",
       "mustache        22\n",
       "skin texture    11\n",
       "age             11\n",
       "Name: count, dtype: int64"
      ]
     },
     "execution_count": 12,
     "metadata": {},
     "output_type": "execute_result"
    }
   ],
   "source": [
    "data[\"item\"].value_counts()"
   ]
  },
  {
   "cell_type": "code",
   "execution_count": null,
   "id": "2cd4a7f7-e010-4cca-ba7c-ab047d1f478f",
   "metadata": {},
   "outputs": [],
   "source": []
  }
 ],
 "metadata": {
  "kernelspec": {
   "display_name": "Python 3 (ipykernel)",
   "language": "python",
   "name": "python3"
  },
  "language_info": {
   "codemirror_mode": {
    "name": "ipython",
    "version": 3
   },
   "file_extension": ".py",
   "mimetype": "text/x-python",
   "name": "python",
   "nbconvert_exporter": "python",
   "pygments_lexer": "ipython3",
   "version": "3.10.13"
  }
 },
 "nbformat": 4,
 "nbformat_minor": 5
}
