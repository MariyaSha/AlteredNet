{
 "cells": [
  {
   "cell_type": "markdown",
   "id": "2c910e8d-ea10-44b5-ba5e-3d14c37f08b7",
   "metadata": {},
   "source": [
    "## AlteredNet Label Generator\n",
    "\n",
    "This notebook generates CSV label files based on the image files in the validation and train directories. \n",
    "<br>\n",
    "This is useful in cases when new images are added to the data in the saving convntion of:\n",
    "<br>\n",
    "```0_real.png``` and ```0_fake.png``` based off ```<id>_<class>.png```"
   ]
  },
  {
   "cell_type": "code",
   "execution_count": 7,
   "id": "71f906f6-0177-43e5-ba3f-7ad25ad724d1",
   "metadata": {},
   "outputs": [
    {
     "data": {
      "text/html": [
       "<div>\n",
       "<style scoped>\n",
       "    .dataframe tbody tr th:only-of-type {\n",
       "        vertical-align: middle;\n",
       "    }\n",
       "\n",
       "    .dataframe tbody tr th {\n",
       "        vertical-align: top;\n",
       "    }\n",
       "\n",
       "    .dataframe thead th {\n",
       "        text-align: right;\n",
       "    }\n",
       "</style>\n",
       "<table border=\"1\" class=\"dataframe\">\n",
       "  <thead>\n",
       "    <tr style=\"text-align: right;\">\n",
       "      <th></th>\n",
       "      <th>image</th>\n",
       "      <th>label</th>\n",
       "    </tr>\n",
       "  </thead>\n",
       "  <tbody>\n",
       "    <tr>\n",
       "      <th>0</th>\n",
       "      <td>10_test_real.png</td>\n",
       "      <td>1</td>\n",
       "    </tr>\n",
       "    <tr>\n",
       "      <th>1</th>\n",
       "      <td>11_test_real.png</td>\n",
       "      <td>1</td>\n",
       "    </tr>\n",
       "    <tr>\n",
       "      <th>2</th>\n",
       "      <td>12_test_real.png</td>\n",
       "      <td>1</td>\n",
       "    </tr>\n",
       "    <tr>\n",
       "      <th>3</th>\n",
       "      <td>13_test_real.png</td>\n",
       "      <td>1</td>\n",
       "    </tr>\n",
       "  </tbody>\n",
       "</table>\n",
       "</div>"
      ],
      "text/plain": [
       "              image label\n",
       "0  10_test_real.png     1\n",
       "1  11_test_real.png     1\n",
       "2  12_test_real.png     1\n",
       "3  13_test_real.png     1"
      ]
     },
     "execution_count": 7,
     "metadata": {},
     "output_type": "execute_result"
    }
   ],
   "source": [
    "import pandas as pd\n",
    "import os\n",
    "\n",
    "for dir in [\"train\", \"valid\", \"test\"]:\n",
    "    # fetch all .png file names from cwd\n",
    "    data = pd.DataFrame([i for i in os.listdir(\"../\" + dir) if i.endswith(\".png\")], columns=[\"image\"])\n",
    "    data = data.sort_values('image')\n",
    "    # extract image name\n",
    "    data[\"label\"] = data[\"image\"].str[-8:-4]\n",
    "    # replace names with 0 or 1\n",
    "    data[\"label\"] = data[\"label\"].replace('real', '1')\n",
    "    data[\"label\"] = data[\"label\"].replace('fake', '0')\n",
    "    # save on file system\n",
    "    data = data.sort_values(\"image\").reset_index(drop=True)\n",
    "    data.to_csv(dir + \"_labels.csv\", index=False)\n",
    "\n",
    "data.head(4)"
   ]
  },
  {
   "cell_type": "code",
   "execution_count": null,
   "id": "e9e32c1e-de01-479e-bf7f-c358baabe558",
   "metadata": {},
   "outputs": [],
   "source": []
  }
 ],
 "metadata": {
  "kernelspec": {
   "display_name": "Python 3 (ipykernel)",
   "language": "python",
   "name": "python3"
  },
  "language_info": {
   "codemirror_mode": {
    "name": "ipython",
    "version": 3
   },
   "file_extension": ".py",
   "mimetype": "text/x-python",
   "name": "python",
   "nbconvert_exporter": "python",
   "pygments_lexer": "ipython3",
   "version": "3.10.13"
  }
 },
 "nbformat": 4,
 "nbformat_minor": 5
}
