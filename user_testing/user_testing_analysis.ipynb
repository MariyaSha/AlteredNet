{
 "cells": [
  {
   "cell_type": "markdown",
   "id": "b3e2f965-d43c-4b44-8e6e-66f9975a748e",
   "metadata": {},
   "source": [
    "# Statistical Analysis of User Testing Results\n",
    "\n",
    "The following data was manually entered based on the <a href=\"https://docs.google.com/forms/d/e/1FAIpQLSfx20_svJcdGu16vEDM1gNOzEcOnAFeu45VS_h81KKxRv83lQ/viewform\" target=\"_blank\">Google form</a> submitted by all test participants.\n",
    "1. **user_testing_results:** contains the number of correct and incorrect answers for all samples.\n",
    "2. **user_testing_results_6-10:** contains the number of true positive, false positive, true negative, and false negative answers. Provides a more precise insight into the last 5 users' selections, for samples 6-10.\n",
    "\n",
    "## Test Accuracy"
   ]
  },
  {
   "cell_type": "code",
   "execution_count": 1,
   "id": "b1ece653-cc32-4d18-b12e-6f71b4313843",
   "metadata": {},
   "outputs": [
    {
     "name": "stdout",
     "output_type": "stream",
     "text": [
      "correct: 266\n",
      "incorrect: 204\n",
      "accuracy: 0.5659574468085107\n"
     ]
    },
    {
     "data": {
      "text/plain": [
       "<Axes: title={'center': 'Correct And Incorrect Classification Per Sample'}, xlabel='sample ids', ylabel='number of users'>"
      ]
     },
     "execution_count": 1,
     "metadata": {},
     "output_type": "execute_result"
    },
    {
     "data": {
      "image/png": "[encoded data removed]",
      "text/plain": [
       "<Figure size 640x480 with 1 Axes>"
      ]
     },
     "metadata": {},
     "output_type": "display_data"
    }
   ],
   "source": [
    "import pandas as pd\n",
    "\n",
    "#load data\n",
    "all_data = pd.read_csv(\"user_testing_results.csv\")\n",
    "\n",
    "# print stats\n",
    "print(\"correct:\", all_data[\"correct\"].sum())\n",
    "print(\"incorrect:\", all_data[\"wrong\"].sum())\n",
    "print(\"accuracy:\", all_data[\"correct\"].sum()/(all_data[\"correct\"].sum()+all_data[\"wrong\"].sum()))\n",
    "\n",
    "# plot data\n",
    "all_data.plot.bar(\n",
    "    x=\"id\", \n",
    "    title=\"Correct And Incorrect Classification Per Sample\", \n",
    "    xlabel=\"sample ids\", \n",
    "    ylabel=\"number of users\"\n",
    ")"
   ]
  },
  {
   "cell_type": "markdown",
   "id": "d4ee2e20-4972-4d21-8800-a29177778d06",
   "metadata": {},
   "source": [
    "## Test Precision and Recall"
   ]
  },
  {
   "cell_type": "code",
   "execution_count": 2,
   "id": "f6b39f87-d0f7-40e5-b6f6-9359b020d347",
   "metadata": {},
   "outputs": [
    {
     "name": "stdout",
     "output_type": "stream",
     "text": [
      "true positives: 61\n",
      "true negatives: 71\n",
      "false positives: 70\n",
      "false negatives: 33\n",
      "------------------------------\n",
      "recall: 0.648936170212766\n",
      "precision: 0.46564885496183206\n"
     ]
    }
   ],
   "source": [
    "# load data\n",
    "data = pd.read_csv(\"user_testing_results_6-10.csv\")\n",
    "\n",
    "# calculate TP,TN,FP,FN\n",
    "TP = data[(data[\"actual\"]==1) & (data[\"predicted\"]==1)][\"n_users\"].sum()\n",
    "TN = data[(data[\"actual\"]==0) & (data[\"predicted\"]==0)][\"n_users\"].sum()\n",
    "FP = data[(data[\"actual\"]==0) & (data[\"predicted\"]==1)][\"n_users\"].sum()\n",
    "FN = data[(data[\"actual\"]==1) & (data[\"predicted\"]==0)][\"n_users\"].sum()\n",
    "\n",
    "# print stats\n",
    "print(\"true positives:\", TP)\n",
    "print(\"true negatives:\", TN)\n",
    "print(\"false positives:\", FP)\n",
    "print(\"false negatives:\", FN)\n",
    "print(\"------------------------------\")\n",
    "print(\"recall:\", TP / (TP + FN))\n",
    "print(\"precision:\", TP / (TP + FP))"
   ]
  },
  {
   "cell_type": "markdown",
   "id": "ad8aead9-2c30-4ab0-af7c-ed58f2d2e860",
   "metadata": {},
   "source": [
    "## Easiest and Hardest Samples to Detect\n",
    "\n",
    "### Within All Samples\n",
    "By finding the difference between correct and incorrect answers, we can have an insight into the easiest and the most difficult images to detect."
   ]
  },
  {
   "cell_type": "code",
   "execution_count": 3,
   "id": "40b8b0c5-b71f-4c51-a2b0-b93cc336d9c7",
   "metadata": {},
   "outputs": [
    {
     "name": "stdout",
     "output_type": "stream",
     "text": [
      "the easiest sample to detect: 5 by margin of: 39\n",
      "the hardest sample to detect: 1 by margin of: 3\n"
     ]
    }
   ],
   "source": [
    "diff = all_data[\"correct\"] - all_data[\"wrong\"]\n",
    "# get the absolute value (dispose of the negative symbol)\n",
    "diff = diff.abs()\n",
    "# set index as a column, as it represents the sample number -1\n",
    "diff = diff.reset_index()\n",
    "diff[\"index\"] += 1\n",
    "\n",
    "# minimal difference between correct and incorrect\n",
    "hardest = diff[diff[0]==diff[0].min()]\n",
    "# maximal difference between correct and incorrect\n",
    "easiest = diff[diff[0]==diff[0].max()]\n",
    "\n",
    "# print stats\n",
    "print(\"the easiest sample to detect: {} by margin of: {}\".format(\n",
    "    easiest[\"index\"].values[0],\n",
    "    easiest[0].values[0]\n",
    "    ))\n",
    "print(\"the hardest sample to detect: {} by margin of: {}\".format(\n",
    "    hardest[\"index\"].values[0],\n",
    "    hardest[0].values[0]\n",
    "    ))"
   ]
  },
  {
   "cell_type": "markdown",
   "id": "2ed31f01-4e85-4db1-91d6-09dc20e0912a",
   "metadata": {},
   "source": [
    "#### First 5 Altered user testing samples\n",
    "\n",
    "Please note: the users were presented with the real copy and the altered copy of thess photos\n",
    "![samples 6 to 10](images/samples_1-5.png)"
   ]
  },
  {
   "cell_type": "markdown",
   "id": "91da04ca-39f5-4507-95ca-31db1283d75f",
   "metadata": {},
   "source": [
    "### Within Last 6-10 Samples"
   ]
  },
  {
   "cell_type": "code",
   "execution_count": 6,
   "id": "8ab49321-bc41-407d-ad6f-24c0f99d9717",
   "metadata": {},
   "outputs": [
    {
     "name": "stdout",
     "output_type": "stream",
     "text": [
      "the easiest sample to detect: 8 by margin of: 21\n",
      "the hardest samples to detect: [ 6 10] by margin of: 5\n"
     ]
    }
   ],
   "source": [
    "# dalculate the difference between max and min values for each sample id\n",
    "diff = data.groupby(\"id\").max() - data.groupby(\"id\").min()\n",
    "diff = diff.reset_index()\n",
    "\n",
    "# find the most and least difference\n",
    "easiest = diff[diff[\"n_users\"] == diff[\"n_users\"].max()]\n",
    "hardest = diff[diff[\"n_users\"] == diff[\"n_users\"].min()]\n",
    "\n",
    "# print stats\n",
    "print(\"the easiest sample to detect: {} by margin of: {}\".format(\n",
    "    easiest[\"id\"].values[0],\n",
    "    easiest[\"n_users\"].values[0]\n",
    "    ))\n",
    "print(\"the hardest samples to detect: {} by margin of: {}\".format(\n",
    "    hardest[\"id\"].values,\n",
    "    hardest[\"n_users\"].values[0]\n",
    "    ))"
   ]
  },
  {
   "cell_type": "markdown",
   "id": "18ecf160-edbc-4045-ab8b-a19baa3fd7f5",
   "metadata": {},
   "source": [
    "#### Last 5 user testing samples\n",
    "\n",
    "![samples 6 to 10](images/samples_6-10.png)"
   ]
  },
  {
   "cell_type": "code",
   "execution_count": null,
   "id": "8e1785c3-7daf-47e2-946e-c294ad5f171b",
   "metadata": {},
   "outputs": [],
   "source": []
  }
 ],
 "metadata": {
  "kernelspec": {
   "display_name": "Python 3 (ipykernel)",
   "language": "python",
   "name": "python3"
  },
  "language_info": {
   "codemirror_mode": {
    "name": "ipython",
    "version": 3
   },
   "file_extension": ".py",
   "mimetype": "text/x-python",
   "name": "python",
   "nbconvert_exporter": "python",
   "pygments_lexer": "ipython3",
   "version": "3.10.13"
  }
 },
 "nbformat": 4,
 "nbformat_minor": 5
}
